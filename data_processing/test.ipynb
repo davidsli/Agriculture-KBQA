{
 "cells": [
  {
   "cell_type": "code",
   "execution_count": 11,
   "metadata": {},
   "outputs": [],
   "source": [
    "import pandas as pd\n",
    "import fool\n",
    "import json"
   ]
  },
  {
   "cell_type": "code",
   "execution_count": 3,
   "metadata": {
    "pycharm": {
     "is_executing": false
    }
   },
   "outputs": [],
   "source": [
    "df_base = pd.read_csv(\"../data/baseinfo.csv\",header=None)\n",
    "df_attr = pd.read_csv(\"../data/atterinfo.csv\",header=None)\n",
    "df_qa = pd.read_csv(\"../data/qadata.csv\",header=None)\n",
    "df_base.columns, df_attr.columns, df_qa.columns = [\"id\",\"name\",\"intro\"],[\"id\",\"name\",\"key\",\"values\"],[\"id\",\"name\",\"question\",\"answer\"]"
   ]
  },
  {
   "cell_type": "code",
   "execution_count": 4,
   "metadata": {},
   "outputs": [
    {
     "data": {
      "text/html": [
       "<div>\n",
       "<style scoped>\n",
       "    .dataframe tbody tr th:only-of-type {\n",
       "        vertical-align: middle;\n",
       "    }\n",
       "\n",
       "    .dataframe tbody tr th {\n",
       "        vertical-align: top;\n",
       "    }\n",
       "\n",
       "    .dataframe thead th {\n",
       "        text-align: right;\n",
       "    }\n",
       "</style>\n",
       "<table border=\"1\" class=\"dataframe\">\n",
       "  <thead>\n",
       "    <tr style=\"text-align: right;\">\n",
       "      <th></th>\n",
       "      <th>id</th>\n",
       "      <th>name</th>\n",
       "      <th>intro</th>\n",
       "    </tr>\n",
       "  </thead>\n",
       "  <tbody>\n",
       "    <tr>\n",
       "      <td>0</td>\n",
       "      <td>00059a79db8982df0e75498e5b0b44bc</td>\n",
       "      <td>宁豇3号</td>\n",
       "      <td>宁豇3号是以之豇28-2和白豇2号的优良单株为亲本，经杂交系选育而成，是继宁豇1号、宁豇2号...</td>\n",
       "    </tr>\n",
       "    <tr>\n",
       "      <td>1</td>\n",
       "      <td>0006dc509671d4cf93940b5b1d0e67b3</td>\n",
       "      <td>优果网</td>\n",
       "      <td>优果网由上海汇果电子科技有限公司投资，于2007年正式上线运营，是国内最早从事水果直销的电子...</td>\n",
       "    </tr>\n",
       "    <tr>\n",
       "      <td>2</td>\n",
       "      <td>000bcacb826926c549e97d53ca7549d8</td>\n",
       "      <td>水毛花</td>\n",
       "      <td>水毛花，中药名。为莎草科植物水毛花Schoenoplectus mucronatus（L．）...</td>\n",
       "    </tr>\n",
       "  </tbody>\n",
       "</table>\n",
       "</div>"
      ],
      "text/plain": [
       "                                 id  name  \\\n",
       "0  00059a79db8982df0e75498e5b0b44bc  宁豇3号   \n",
       "1  0006dc509671d4cf93940b5b1d0e67b3   优果网   \n",
       "2  000bcacb826926c549e97d53ca7549d8   水毛花   \n",
       "\n",
       "                                               intro  \n",
       "0  宁豇3号是以之豇28-2和白豇2号的优良单株为亲本，经杂交系选育而成，是继宁豇1号、宁豇2号...  \n",
       "1  优果网由上海汇果电子科技有限公司投资，于2007年正式上线运营，是国内最早从事水果直销的电子...  \n",
       "2  水毛花，中药名。为莎草科植物水毛花Schoenoplectus mucronatus（L．）...  "
      ]
     },
     "execution_count": 4,
     "metadata": {},
     "output_type": "execute_result"
    }
   ],
   "source": [
    "df_base.head(3)"
   ]
  },
  {
   "cell_type": "code",
   "execution_count": 5,
   "metadata": {},
   "outputs": [
    {
     "data": {
      "text/html": [
       "<div>\n",
       "<style scoped>\n",
       "    .dataframe tbody tr th:only-of-type {\n",
       "        vertical-align: middle;\n",
       "    }\n",
       "\n",
       "    .dataframe tbody tr th {\n",
       "        vertical-align: top;\n",
       "    }\n",
       "\n",
       "    .dataframe thead th {\n",
       "        text-align: right;\n",
       "    }\n",
       "</style>\n",
       "<table border=\"1\" class=\"dataframe\">\n",
       "  <thead>\n",
       "    <tr style=\"text-align: right;\">\n",
       "      <th></th>\n",
       "      <th>id</th>\n",
       "      <th>name</th>\n",
       "      <th>key</th>\n",
       "      <th>values</th>\n",
       "    </tr>\n",
       "  </thead>\n",
       "  <tbody>\n",
       "    <tr>\n",
       "      <td>0</td>\n",
       "      <td>6cc9847077aae01d5c7904ea895c196e</td>\n",
       "      <td>美丽异木棉</td>\n",
       "      <td>中文学名</td>\n",
       "      <td>美丽异木棉</td>\n",
       "    </tr>\n",
       "    <tr>\n",
       "      <td>1</td>\n",
       "      <td>6cc9847077aae01d5c7904ea895c196e</td>\n",
       "      <td>美丽异木棉</td>\n",
       "      <td>别名</td>\n",
       "      <td>美人树、美丽木棉、丝木棉</td>\n",
       "    </tr>\n",
       "    <tr>\n",
       "      <td>2</td>\n",
       "      <td>6cc9847077aae01d5c7904ea895c196e</td>\n",
       "      <td>美丽异木棉</td>\n",
       "      <td>拉丁学名</td>\n",
       "      <td>Ceiba speciosa St.Hih.</td>\n",
       "    </tr>\n",
       "  </tbody>\n",
       "</table>\n",
       "</div>"
      ],
      "text/plain": [
       "                                 id   name   key                  values\n",
       "0  6cc9847077aae01d5c7904ea895c196e  美丽异木棉  中文学名                   美丽异木棉\n",
       "1  6cc9847077aae01d5c7904ea895c196e  美丽异木棉    别名            美人树、美丽木棉、丝木棉\n",
       "2  6cc9847077aae01d5c7904ea895c196e  美丽异木棉  拉丁学名  Ceiba speciosa St.Hih."
      ]
     },
     "execution_count": 5,
     "metadata": {},
     "output_type": "execute_result"
    }
   ],
   "source": [
    "df_attr.head(3)"
   ]
  },
  {
   "cell_type": "code",
   "execution_count": 6,
   "metadata": {},
   "outputs": [
    {
     "data": {
      "text/html": [
       "<div>\n",
       "<style scoped>\n",
       "    .dataframe tbody tr th:only-of-type {\n",
       "        vertical-align: middle;\n",
       "    }\n",
       "\n",
       "    .dataframe tbody tr th {\n",
       "        vertical-align: top;\n",
       "    }\n",
       "\n",
       "    .dataframe thead th {\n",
       "        text-align: right;\n",
       "    }\n",
       "</style>\n",
       "<table border=\"1\" class=\"dataframe\">\n",
       "  <thead>\n",
       "    <tr style=\"text-align: right;\">\n",
       "      <th></th>\n",
       "      <th>id</th>\n",
       "      <th>name</th>\n",
       "      <th>question</th>\n",
       "      <th>answer</th>\n",
       "    </tr>\n",
       "  </thead>\n",
       "  <tbody>\n",
       "    <tr>\n",
       "      <td>0</td>\n",
       "      <td>6cc9847077aae01d5c7904ea895c196e</td>\n",
       "      <td>美丽异木棉</td>\n",
       "      <td>形态特征</td>\n",
       "      <td>/美丽异木棉 编辑\\n\\n\\n\\t\\t\\t\\n\\t\\t\\n \\n 美丽异木棉\\n落叶乔木，高...</td>\n",
       "    </tr>\n",
       "    <tr>\n",
       "      <td>1</td>\n",
       "      <td>6cc9847077aae01d5c7904ea895c196e</td>\n",
       "      <td>美丽异木棉</td>\n",
       "      <td>生态习性</td>\n",
       "      <td>/美丽异木棉 编辑\\n\\n\\n\\t\\t\\t\\n\\t\\t美丽异木棉性喜光而稍耐阴，喜高温多湿气...</td>\n",
       "    </tr>\n",
       "    <tr>\n",
       "      <td>2</td>\n",
       "      <td>6cc9847077aae01d5c7904ea895c196e</td>\n",
       "      <td>美丽异木棉</td>\n",
       "      <td>分布范围</td>\n",
       "      <td>/美丽异木棉 编辑\\n\\n\\n\\t\\t\\t\\n\\t\\t美丽异木棉原产于南美洲，热带地区多有栽...</td>\n",
       "    </tr>\n",
       "  </tbody>\n",
       "</table>\n",
       "</div>"
      ],
      "text/plain": [
       "                                 id   name question  \\\n",
       "0  6cc9847077aae01d5c7904ea895c196e  美丽异木棉     形态特征   \n",
       "1  6cc9847077aae01d5c7904ea895c196e  美丽异木棉     生态习性   \n",
       "2  6cc9847077aae01d5c7904ea895c196e  美丽异木棉     分布范围   \n",
       "\n",
       "                                              answer  \n",
       "0  /美丽异木棉 编辑\\n\\n\\n\\t\\t\\t\\n\\t\\t\\n \\n 美丽异木棉\\n落叶乔木，高...  \n",
       "1  /美丽异木棉 编辑\\n\\n\\n\\t\\t\\t\\n\\t\\t美丽异木棉性喜光而稍耐阴，喜高温多湿气...  \n",
       "2  /美丽异木棉 编辑\\n\\n\\n\\t\\t\\t\\n\\t\\t美丽异木棉原产于南美洲，热带地区多有栽...  "
      ]
     },
     "execution_count": 6,
     "metadata": {},
     "output_type": "execute_result"
    }
   ],
   "source": [
    "df_qa.head(3)"
   ]
  },
  {
   "cell_type": "code",
   "execution_count": 9,
   "metadata": {},
   "outputs": [
    {
     "data": {
      "text/plain": [
       "('问题个数：4434', '属性个数：1230', '所有农作物的个数：5114')"
      ]
     },
     "execution_count": 9,
     "metadata": {},
     "output_type": "execute_result"
    }
   ],
   "source": [
    "\"问题个数：%s\"%len(df_qa.question.drop_duplicates()), \"属性个数：%s\"%len(df_attr.key.drop_duplicates()),\"所有农作物的个数：%s\"%(df_base.shape[0])"
   ]
  },
  {
   "cell_type": "code",
   "execution_count": 8,
   "metadata": {},
   "outputs": [
    {
     "data": {
      "text/html": [
       "<div>\n",
       "<style scoped>\n",
       "    .dataframe tbody tr th:only-of-type {\n",
       "        vertical-align: middle;\n",
       "    }\n",
       "\n",
       "    .dataframe tbody tr th {\n",
       "        vertical-align: top;\n",
       "    }\n",
       "\n",
       "    .dataframe thead th {\n",
       "        text-align: right;\n",
       "    }\n",
       "</style>\n",
       "<table border=\"1\" class=\"dataframe\">\n",
       "  <thead>\n",
       "    <tr style=\"text-align: right;\">\n",
       "      <th></th>\n",
       "      <th>id</th>\n",
       "      <th>name</th>\n",
       "      <th>key</th>\n",
       "      <th>values</th>\n",
       "    </tr>\n",
       "  </thead>\n",
       "  <tbody>\n",
       "    <tr>\n",
       "      <td>12</td>\n",
       "      <td>6cc9847077aae01d5c7904ea895c196e</td>\n",
       "      <td>美丽异木棉</td>\n",
       "      <td>分布区域</td>\n",
       "      <td>原产南美，中国多地城市广泛栽培</td>\n",
       "    </tr>\n",
       "    <tr>\n",
       "      <td>36</td>\n",
       "      <td>a7e71c32737c4e49616576844f60cd9b</td>\n",
       "      <td>茴香菖蒲</td>\n",
       "      <td>分布区域</td>\n",
       "      <td>四川省、湖南省、湖北省、贵州省、重庆、云南省、广西省、广东省</td>\n",
       "    </tr>\n",
       "    <tr>\n",
       "      <td>62</td>\n",
       "      <td>ea0c6559ba52aedef781bd18c176a1a8</td>\n",
       "      <td>腺绒杜鹃</td>\n",
       "      <td>分布区域</td>\n",
       "      <td>云南</td>\n",
       "    </tr>\n",
       "    <tr>\n",
       "      <td>80</td>\n",
       "      <td>7af61f2032c22d5c22011d40f6892ec9</td>\n",
       "      <td>楝叶吴萸</td>\n",
       "      <td>分布区域</td>\n",
       "      <td>台湾,福建,广东,海南,广西,云南</td>\n",
       "    </tr>\n",
       "    <tr>\n",
       "      <td>95</td>\n",
       "      <td>dab7070fb6b584c2f834a39add703744</td>\n",
       "      <td>水蜡</td>\n",
       "      <td>分布区域</td>\n",
       "      <td>原产于我国中南地区，现北方各地广泛栽培，日本也有分布。</td>\n",
       "    </tr>\n",
       "    <tr>\n",
       "      <td>...</td>\n",
       "      <td>...</td>\n",
       "      <td>...</td>\n",
       "      <td>...</td>\n",
       "      <td>...</td>\n",
       "    </tr>\n",
       "    <tr>\n",
       "      <td>42368</td>\n",
       "      <td>0b5182a12fead5cbd537f49396a46851</td>\n",
       "      <td>银耳</td>\n",
       "      <td>分布区域</td>\n",
       "      <td>中国</td>\n",
       "    </tr>\n",
       "    <tr>\n",
       "      <td>42386</td>\n",
       "      <td>42e5d5374140baac66f7448bf0d56b37</td>\n",
       "      <td>海鲜菇</td>\n",
       "      <td>分布区域</td>\n",
       "      <td>北温带</td>\n",
       "    </tr>\n",
       "    <tr>\n",
       "      <td>42401</td>\n",
       "      <td>b222d368b97fad51acbcf19693437ed5</td>\n",
       "      <td>油茶[山茶科植物]</td>\n",
       "      <td>分布区域</td>\n",
       "      <td>中国从长江流域到华南各地广泛栽培</td>\n",
       "    </tr>\n",
       "    <tr>\n",
       "      <td>42419</td>\n",
       "      <td>59b6d901e6e04f8d222e26dea3706ec8</td>\n",
       "      <td>莆田龙眼</td>\n",
       "      <td>分布区域</td>\n",
       "      <td>莆田</td>\n",
       "    </tr>\n",
       "    <tr>\n",
       "      <td>42434</td>\n",
       "      <td>4eb069d64edb461f92eec5b4a4448149</td>\n",
       "      <td>平和蜜柚</td>\n",
       "      <td>分布区域</td>\n",
       "      <td>平和县</td>\n",
       "    </tr>\n",
       "  </tbody>\n",
       "</table>\n",
       "<p>2023 rows × 4 columns</p>\n",
       "</div>"
      ],
      "text/plain": [
       "                                     id       name   key  \\\n",
       "12     6cc9847077aae01d5c7904ea895c196e      美丽异木棉  分布区域   \n",
       "36     a7e71c32737c4e49616576844f60cd9b       茴香菖蒲  分布区域   \n",
       "62     ea0c6559ba52aedef781bd18c176a1a8       腺绒杜鹃  分布区域   \n",
       "80     7af61f2032c22d5c22011d40f6892ec9       楝叶吴萸  分布区域   \n",
       "95     dab7070fb6b584c2f834a39add703744         水蜡  分布区域   \n",
       "...                                 ...        ...   ...   \n",
       "42368  0b5182a12fead5cbd537f49396a46851         银耳  分布区域   \n",
       "42386  42e5d5374140baac66f7448bf0d56b37        海鲜菇  分布区域   \n",
       "42401  b222d368b97fad51acbcf19693437ed5  油茶[山茶科植物]  分布区域   \n",
       "42419  59b6d901e6e04f8d222e26dea3706ec8       莆田龙眼  分布区域   \n",
       "42434  4eb069d64edb461f92eec5b4a4448149       平和蜜柚  分布区域   \n",
       "\n",
       "                               values  \n",
       "12                    原产南美，中国多地城市广泛栽培  \n",
       "36     四川省、湖南省、湖北省、贵州省、重庆、云南省、广西省、广东省  \n",
       "62                                 云南  \n",
       "80                  台湾,福建,广东,海南,广西,云南  \n",
       "95        原产于我国中南地区，现北方各地广泛栽培，日本也有分布。  \n",
       "...                               ...  \n",
       "42368                              中国  \n",
       "42386                             北温带  \n",
       "42401                中国从长江流域到华南各地广泛栽培  \n",
       "42419                              莆田  \n",
       "42434                             平和县  \n",
       "\n",
       "[2023 rows x 4 columns]"
      ]
     },
     "execution_count": 8,
     "metadata": {},
     "output_type": "execute_result"
    }
   ],
   "source": [
    "df_attr[df_attr.key==\"分布区域\"]"
   ]
  },
  {
   "cell_type": "code",
   "execution_count": 62,
   "metadata": {},
   "outputs": [
    {
     "data": {
      "text/html": [
       "<div>\n",
       "<style scoped>\n",
       "    .dataframe tbody tr th:only-of-type {\n",
       "        vertical-align: middle;\n",
       "    }\n",
       "\n",
       "    .dataframe tbody tr th {\n",
       "        vertical-align: top;\n",
       "    }\n",
       "\n",
       "    .dataframe thead th {\n",
       "        text-align: right;\n",
       "    }\n",
       "</style>\n",
       "<table border=\"1\" class=\"dataframe\">\n",
       "  <thead>\n",
       "    <tr style=\"text-align: right;\">\n",
       "      <th></th>\n",
       "      <th>id</th>\n",
       "      <th>name</th>\n",
       "      <th>key</th>\n",
       "      <th>values</th>\n",
       "    </tr>\n",
       "  </thead>\n",
       "  <tbody>\n",
       "    <tr>\n",
       "      <td>28916</td>\n",
       "      <td>4850f81394483c656dfc1d99efbe3c52</td>\n",
       "      <td>咖喱蔬菜</td>\n",
       "      <td>2</td>\n",
       "      <td>炒咖喱卤或咖喱粉时一定要用小火</td>\n",
       "    </tr>\n",
       "  </tbody>\n",
       "</table>\n",
       "</div>"
      ],
      "text/plain": [
       "                                     id  name key           values\n",
       "28916  4850f81394483c656dfc1d99efbe3c52  咖喱蔬菜   2  炒咖喱卤或咖喱粉时一定要用小火"
      ]
     },
     "execution_count": 62,
     "metadata": {},
     "output_type": "execute_result"
    }
   ],
   "source": [
    "df_attr[df_attr.key==\"2\"]"
   ]
  },
  {
   "cell_type": "code",
   "execution_count": 67,
   "metadata": {},
   "outputs": [
    {
     "name": "stdout",
     "output_type": "stream",
     "text": [
      "我最喜欢吃的水果有：苹果、梨、香蕉、还有烤肉香蕉水 --->命中的关键词有： 苹果\t梨\t香蕉\n",
      "我也喜欢吃香蕉，但是我不喜欢吃梨 --->命中的关键词有： 梨\t香蕉\n"
     ]
    }
   ],
   "source": [
    "import ahocorasick\n",
    "\n",
    "def make_AC(AC, word_set):\n",
    "    for word in word_set:\n",
    "        AC.add_word(word,word)\n",
    "    return AC\n",
    "\n",
    "def test_ahocorasick():\n",
    "    '''\n",
    "    ahocosick：自动机的意思\n",
    "    可实现自动批量匹配字符串的作用，即可一次返回该条字符串中命中的所有关键词\n",
    "    '''\n",
    "    key_list = [\"苹果\", \"香蕉\", \"梨\", \"橙子\", \"柚子\", \"火龙果\", \"柿子\", \"猕猴挑\"]\n",
    "    AC_KEY = ahocorasick.Automaton()\n",
    "    AC_KEY = make_AC(AC_KEY, set(key_list))\n",
    "    AC_KEY.make_automaton()\n",
    "    test_str_list = [\"我最喜欢吃的水果有：苹果、梨、香蕉、还有烤肉香蕉水\", \"我也喜欢吃香蕉，但是我不喜欢吃梨\"]\n",
    "    for content in test_str_list:\n",
    "        name_list = set()\n",
    "        for item in AC_KEY.iter(content):#将AC_KEY中的每一项与content内容作对比，若匹配则返回\n",
    "            name_list.add(item[1])\n",
    "        name_list = list(name_list)\n",
    "        if len(name_list) > 0:\n",
    "            print(content, \"--->命中的关键词有：\", \"\\t\".join(name_list))\n",
    "if __name__ == \"__main__\":\n",
    "    test_ahocorasick()"
   ]
  },
  {
   "cell_type": "code",
   "execution_count": 68,
   "metadata": {},
   "outputs": [
    {
     "data": {
      "text/plain": [
       "([[('我', 'r'),\n",
       "   ('最', 'd'),\n",
       "   ('喜欢', 'vi'),\n",
       "   ('吃', 'v'),\n",
       "   ('的', 'ude'),\n",
       "   ('水果', 'n'),\n",
       "   ('有', 'vyou'),\n",
       "   ('：', 'wm'),\n",
       "   ('苹果', 'n'),\n",
       "   ('、', 'wn'),\n",
       "   ('梨', 'n'),\n",
       "   ('和', 'c'),\n",
       "   ('香蕉', 'n'),\n",
       "   ('还有', 'v'),\n",
       "   ('芭乐', 'n')]],\n",
       " [[(10, 13, 'company', '苹果'), (19, 22, 'company', '芭乐')]])"
      ]
     },
     "execution_count": 68,
     "metadata": {},
     "output_type": "execute_result"
    }
   ],
   "source": [
    "\n",
    "fool.analysis(\"我最喜欢吃的水果有：苹果、梨和香蕉还有芭乐\")"
   ]
  },
  {
   "cell_type": "code",
   "execution_count": 69,
   "metadata": {},
   "outputs": [
    {
     "name": "stdout",
     "output_type": "stream",
     "text": [
      "苹果\n",
      "香蕉\n",
      "梨\n"
     ]
    }
   ],
   "source": [
    "key_list = [\"苹果\", \"香蕉\", \"梨\", \"橙子\", \"柚子\", \"火龙果\", \"柿子\", \"猕猴挑\"]\n",
    "test_str_list = [\"我最喜欢吃的水果有：苹果、梨、香蕉、还有烤肉香蕉水\", \"我也喜欢吃香蕉，但是我不喜欢吃梨\"]\n",
    "for key in key_list:\n",
    "    if key in test_str_list[0]:\n",
    "        print(key)"
   ]
  },
  {
   "cell_type": "code",
   "execution_count": 21,
   "metadata": {},
   "outputs": [
    {
     "name": "stdout",
     "output_type": "stream",
     "text": [
      "20 *********** 23 ********** location ************* 日本\n",
      "5 *********** 10 ********** location ************* 中南地区\n"
     ]
    }
   ],
   "source": [
    "words, ners = fool.analysis(\"原产于我国中南地区，现北方各地广泛栽培，日本也有分布。\")\n",
    "ners[0].sort(key=lambda x:x[0], reverse=True)\n",
    "for start, end, ner_type, ner_name in ners[0]:\n",
    "    print(start,'***********',end,'**********',ner_type,'*************',ner_name)"
   ]
  }
 ],
 "metadata": {
  "kernelspec": {
   "display_name": "Python 3",
   "language": "python",
   "name": "python3"
  },
  "language_info": {
   "codemirror_mode": {
    "name": "ipython",
    "version": 3
   },
   "file_extension": ".py",
   "mimetype": "text/x-python",
   "name": "python",
   "nbconvert_exporter": "python",
   "pygments_lexer": "ipython3",
   "version": "3.6.8"
  }
 },
 "nbformat": 4,
 "nbformat_minor": 2
}
