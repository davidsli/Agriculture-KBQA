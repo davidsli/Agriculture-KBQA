{
 "cells": [
  {
   "cell_type": "code",
   "execution_count": null,
   "metadata": {},
   "outputs": [],
   "source": [
    "import pandas as pd\n",
    "import fool\n",
    "import re\n",
    "import json"
   ]
  },
  {
   "cell_type": "code",
   "execution_count": null,
   "metadata": {
    "pycharm": {
     "is_executing": false
    }
   },
   "outputs": [],
   "source": [
    "df_base = pd.read_csv(\"../data/baseinfo.csv\",header=None)\n",
    "df_attr = pd.read_csv(\"../data/atterinfo.csv\",header=None)\n",
    "df_qa = pd.read_csv(\"../data/qadata.csv\",header=None)\n",
    "df_base.columns, df_attr.columns, df_qa.columns = [\"id\",\"name\",\"intro\"],[\"id\",\"name\",\"key\",\"values\"],[\"id\",\"name\",\"question\",\"answer\"]"
   ]
  },
  {
   "cell_type": "code",
   "execution_count": null,
   "metadata": {},
   "outputs": [],
   "source": [
    "\"问题个数：%s\"%len(df_qa.question.drop_duplicates()), \"属性个数：%s\"%len(df_attr.key.drop_duplicates()),\"所有农作物的个数：%s\"%(df_base.shape[0])"
   ]
  },
  {
   "cell_type": "markdown",
   "metadata": {},
   "source": [
    "### 关键词库"
   ]
  },
  {
   "cell_type": "code",
   "execution_count": null,
   "metadata": {},
   "outputs": [],
   "source": [
    "key_words ={\"门\":\"^门$\",\n",
    "           \"纲\":\"^纲$\",\n",
    "           \"品种\":\"^品种$|^种$\",\n",
    "           \"命名者及年代\":\"^命名者及年代$\",\n",
    "           \"区域\":\"分布区域|分布范围|原产地|产地名称|主产地|产.*?地|起源地|分布地区|地.*?点|特产地|发源地\",\n",
    "           \"目\": \"^目$\",\n",
    "           \"科\":\"^科$\"}"
   ]
  },
  {
   "cell_type": "markdown",
   "metadata": {},
   "source": [
    "### 停用词加载"
   ]
  },
  {
   "cell_type": "code",
   "execution_count": null,
   "metadata": {},
   "outputs": [],
   "source": [
    "with open(\"../data/stop_word.txt\",encoding=\"utf8\")as f:\n",
    "    stop_words = [i.strip() for i in f.readlines()]"
   ]
  },
  {
   "cell_type": "code",
   "execution_count": null,
   "metadata": {},
   "outputs": [],
   "source": [
    "def cut_stop_word(stop_words, x):\n",
    "    return \"\".join([i.strip() for i in x if i not in stop_words])"
   ]
  },
  {
   "cell_type": "markdown",
   "metadata": {},
   "source": [
    "### 实体统一"
   ]
  },
  {
   "cell_type": "code",
   "execution_count": null,
   "metadata": {},
   "outputs": [],
   "source": [
    "def entity_unify(x):\n",
    "    pass\n",
    "    return x"
   ]
  },
  {
   "cell_type": "markdown",
   "metadata": {},
   "source": [
    "### 添加关系"
   ]
  },
  {
   "cell_type": "code",
   "execution_count": null,
   "metadata": {},
   "outputs": [],
   "source": [
    "def add_rels(x,y):\n",
    "\n",
    "    return [\"###\".join([x,i]) for i in y] if y else []"
   ]
  },
  {
   "cell_type": "markdown",
   "metadata": {},
   "source": [
    "### 获取属性值"
   ]
  },
  {
   "cell_type": "code",
   "execution_count": null,
   "metadata": {},
   "outputs": [],
   "source": [
    "def get_attr_value(df, need_key):\n",
    "    need_key, need_value = key_words.get(need_key,None), \"\"\n",
    "    if need_key:\n",
    "        need_value = df[df.key.str.contains(need_key,regex=True)].to_dict(orient=\"list\").get(\"values\",\"\")\n",
    "    return need_value[0] if need_value else \"\""
   ]
  },
  {
   "cell_type": "code",
   "execution_count": null,
   "metadata": {
    "scrolled": true
   },
   "outputs": [],
   "source": [
    "def read_nodes():\n",
    "    \n",
    "    # 共14类节点\n",
    "    Produce = [] # 农产品名称\n",
    "    Person = [] # 人物\n",
    "    Belong = [] #  门\n",
    "    Outline = [] # 纲\n",
    "    Classify = [] # 品种\n",
    "    Location = [] # 地域\n",
    "    Catalogue = []#目\n",
    "    Family = [] # 科\n",
    "    Manure = [] # 肥料\n",
    "    Climate = [] # 气候\n",
    "    Diseases = []# 病虫害\n",
    "    Nutrients = [] # 营养素\n",
    "    Illness = [] # 疾病\n",
    "    Ability = [] # 功效\n",
    "    \n",
    "    # 构建节点实体关系\n",
    "    belong_part_of, classify_part_of, outline_part_of, catalogue_part_of, family_part_of = [],[],[],[],[] # 农产品-类别的关系\n",
    "    have_nutrition = [] # 农产品-营养素的关系\n",
    "    distribute = [] # 农产品-地域的关系\n",
    "    give_name = [] #  农产品-命名者的关系\n",
    "    fertilization = [] # 农产品-化肥的关系\n",
    "    beneficial_envi = [] # 农产品-环境的关系\n",
    "    fall_ill = [] # 农产品-病虫害的关系\n",
    "    prevent_disease = [] # 农产品-疾病的关系\n",
    "    health_help = [] # 农产品-功效的关系\n",
    "    with tqdm(total=len(df_attr.groupby([\"id\"]).size()), ncols=50) as pbar:\n",
    "        for name,group in df_attr.groupby([\"id\"]):\n",
    "            pbar.update(1)\n",
    "            # 添加属性\n",
    "#             attr_dict = {}\n",
    "            produce = group[group.key.str.contains(\"中.*?名.*?\",regex=True)]\n",
    "            # 中文名和中文学名存在歧义的暂时不处理\n",
    "            if (produce.shape[0]>1 and len(produce[\"values\"].unique())==1) or (produce.shape[0]==1):\n",
    "                produce_name = cut_stop_word(stop_words,produce.iloc[0][\"values\"])\n",
    "#                 attr_dict[\"中文学名\"] = produce_name\n",
    "                Produce.append(produce_name)\n",
    "                \n",
    "                belong = re.findall(\"(\\w{1,5}门)|.*?称.*?(\\w{1,5}门)\",get_attr_value(group, need_key = \"门\"))\n",
    "                belong = list(filter(None, np.array(belong).flatten()))\n",
    "                Belong += belong\n",
    "                belong_part_of.append(add_rels(produce_name,belong))\n",
    "                \n",
    "                classify = re.sub(\"\\(|\\)|[A-Za-z]|\\s+|\\t+|，|\\.|（|）|；|：|。\",\"\",get_attr_value(group,need_key=\"品种\")) \n",
    "                classify = [classify] if len(classify)<6 else \"\"\n",
    "                Classify += classify\n",
    "                classify_part_of.append(add_rels(produce_name,classify))\n",
    "                \n",
    "                person = re.sub(\"，|；|：|。|'|\\\"\",\"\",get_attr_value(group, need_key = \"命名者及年代\"))\n",
    "                Person.append(person)\n",
    "                give_name.append(add_rels(produce_name,[person]))\n",
    "                \n",
    "                outline =  re.findall(\"(\\w{1,5}纲)|.*?称.*?(\\w{1,5}纲)\",get_attr_value(group, need_key = \"纲\"))\n",
    "                outline = list(filter(None, np.array(outline).flatten()))\n",
    "                Outline += outline\n",
    "                outline_part_of.append(add_rels(produce_name,outline))\n",
    "                \n",
    "                word, locations = fool.analysis(get_attr_value(group, need_key = \"区域\"))\n",
    "                location = list(filter(None, np.array([[l[3] for l in loca]for loca in locations]).flatten()))\n",
    "                Location += location\n",
    "                distribute.append(add_rels(produce_name,location))\n",
    "                \n",
    "                catalogue = re.findall(\".*?称.(\\w{1,5}目)|.*?属.(\\w{1,5}目)|(\\w{1,5}目)|.*?归.(\\w{1,5}目)\",get_attr_value(group, need_key=\"目\"))\n",
    "                catalogue = list(filter(None, np.array(catalogue).flatten()))\n",
    "                Catalogue += catalogue\n",
    "                catalogue_part_of.append(add_rels(produce_name,catalogue))\n",
    "    \n",
    "                family =  re.findall(\".*?即.(\\w{1,5}科)|.*?或.(\\w{1,5}科)|(\\w{1,5}科)|.*?属.(\\w{1,5}科)|.*?于.(\\w{1,5}科)\",get_attr_value(group, need_key=\"科\"))\n",
    "                family = list(filter(None, np.array(family).flatten()))\n",
    "                Family += family\n",
    "                family_part_of.append(add_rels(produce_name,family))\n",
    "                # 还没提取完明天继续\n",
    "    #             Manure = \"\"\n",
    "    #             Climate = \"\"\n",
    "    #             Diseases = \"\"\n",
    "    #             Nutrients = \"\"\n",
    "    #             Illness = \"\"\n",
    "    #             Ability = \"\" \n",
    "                \n",
    "            else:\n",
    "                pass\n",
    "        return Produce, Person, Belong, Outline, Classify, Location, Catalogue, Family,\\\n",
    "            Manure, Climate, Diseases, Nutrients, Illness, Ability,\\\n",
    "            belong_part_of, classify_part_of, outline_part_of, catalogue_part_of, family_part_of, have_nutrition, distribute, give_name, fertilization, beneficial_envi, fall_ill, prevent_disease, health_help"
   ]
  },
  {
   "cell_type": "code",
   "execution_count": null,
   "metadata": {},
   "outputs": [],
   "source": []
  },
  {
   "cell_type": "markdown",
   "metadata": {},
   "source": [
    "### 连接数据库"
   ]
  },
  {
   "cell_type": "code",
   "execution_count": null,
   "metadata": {},
   "outputs": [],
   "source": [
    "from py2neo import Graph, Node, Relationship, NodeMatcher\n",
    "\n",
    "graph = Graph(\n",
    "    host=\"127.0.0.1\",  # neo4j 搭载服务器的ip地址，ifconfig可获取到\n",
    "    http_port=7474,  # neo4j 服务器监听的端口号\n",
    "    user=\"neo4j\",  # 数据库user name，如果没有更改过，应该是neo4j\n",
    "    password=\"\")"
   ]
  },
  {
   "cell_type": "markdown",
   "metadata": {},
   "source": [
    "### 创建节点"
   ]
  },
  {
   "cell_type": "code",
   "execution_count": null,
   "metadata": {},
   "outputs": [],
   "source": [
    "def create_node(label, nodes):\n",
    "    with tqdm(total=len(nodes), ncols=100) as pbar:\n",
    "        for node_name in nodes:\n",
    "            node = Node(label, name=node_name)\n",
    "            graph.create(node)\n",
    "            pbar.set_description(\"Save %s to neo4j bat\" % label)\n",
    "            pbar.update(1)\n",
    "        return"
   ]
  },
  {
   "cell_type": "markdown",
   "metadata": {},
   "source": [
    "### 创建关系"
   ]
  },
  {
   "cell_type": "code",
   "execution_count": null,
   "metadata": {},
   "outputs": [],
   "source": [
    "def create_relationship(start_node, end_node, edges, rel_type, rel_name):\n",
    "    # 去重处理\n",
    "    set_edges = sum([i for i in edges if i], [])\n",
    "    with tqdm(total=len(set(set_edges)), ncols=100) as pbar:\n",
    "        for edge in set(set_edges):\n",
    "            edge = edge.split('###')\n",
    "            p = edge[0]\n",
    "            q = edge[1]\n",
    "            if q and p:\n",
    "                query = \"match(p:%s),(q:%s) where p.name='%s'and q.name='%s' create (p)-[rel:%s{name:'%s'}]->(q)\" % (\n",
    "                    start_node, end_node, p, q, rel_type, rel_name)\n",
    "                try:\n",
    "                    graph.run(query)\n",
    "                    pbar.set_description(\"Save %s of %s relationship to neo4j bat\" %(p,q))\n",
    "                    pbar.update(1)\n",
    "                except Exception as e:\n",
    "                    print(e)"
   ]
  },
  {
   "cell_type": "markdown",
   "metadata": {},
   "source": [
    "### 主函数"
   ]
  },
  {
   "cell_type": "code",
   "execution_count": null,
   "metadata": {
    "scrolled": true
   },
   "outputs": [],
   "source": [
    "Produce, Person, Belong, Outline, Classify, Location, Catalogue, Family, \\\n",
    "Manure, Climate, Diseases, Nutrients,Illness, Ability, \\\n",
    "belong_part_of, classify_part_of, outline_part_of, catalogue_part_of, family_part_of, have_nutrition, distribute, give_name, fertilization, beneficial_envi, fall_ill, prevent_disease, health_help = read_nodes()# 创建节点\n",
    "# create_node(\"Produce\",set(Produce))\n",
    "# create_node(\"Person\",set(Person))\n",
    "# create_node(\"Belong\",set(Belong))\n",
    "# create_node(\"Outline\",set(Outline))\n",
    "# create_node(\"Classify\",set(Classify))\n",
    "# create_node(\"Location\",set(Location))\n",
    "# create_node(\"Catalogue\",set(Catalogue))\n",
    "# create_node(\"Family\",set(Family))\n",
    "# # 创建实体关系\n",
    "# create_relationship(\"Produce\", \"Belong\", belong_part_of, \"part_of\", \"属于\")\n",
    "# create_relationship(\"Produce\", \"Classify\", classify_part_of, \"part_of\", \"属于\")\n",
    "# create_relationship(\"Produce\", \"Outline\", outline_part_of, \"part_of\", \"属于\")\n",
    "# create_relationship(\"Produce\", \"Catalogue\", catalogue_part_of, \"part_of\", \"属于\")\n",
    "# create_relationship(\"Produce\", \"Family\", family_part_of, \"part_of\", \"属于\")\n",
    "# create_relationship(\"Produce\", \"Location\", distribute, \"distribute\", \"分布于\")\n",
    "# create_relationship(\"Produce\", \"Person\", give_name, \"give_name\", \"取名字是\")\n",
    "\n"
   ]
  },
  {
   "cell_type": "markdown",
   "metadata": {},
   "source": [
    "### 导出文件"
   ]
  },
  {
   "cell_type": "code",
   "execution_count": 917,
   "metadata": {},
   "outputs": [],
   "source": [
    "f_produce = open('../data/produce.txt', 'w+')\n",
    "f_person = open('../data/person.txt', 'w+')\n",
    "f_belong = open('../data/belong.txt', 'w+')\n",
    "f_outline = open('../data/outline.txt', 'w+')\n",
    "f_classify = open('../data/classify.txt', 'w+')\n",
    "f_location = open('../data/location.txt', 'w+')\n",
    "f_catalogue = open('../data/catalogue.txt', 'w+')\n",
    "f_family = open('../data/family.txt', 'w+')\n",
    "\n",
    "f_produce.write('\\n'.join(Produce))\n",
    "f_person.write('\\n'.join(Person))\n",
    "f_belong.write('\\n'.join(Belong))\n",
    "f_outline.write('\\n'.join(Outline))\n",
    "f_classify.write('\\n'.join(Classify))\n",
    "f_location.write('\\n'.join(Location))\n",
    "f_catalogue.write('\\n'.join(Catalogue))\n",
    "f_family.write('\\n'.join(Family))\n",
    "\n",
    "\n",
    "f_produce.close()\n",
    "f_person.close()\n",
    "f_belong.close()\n",
    "f_outline.close()\n",
    "f_classify.close()\n",
    "f_location.close()\n",
    "f_catalogue.close()\n",
    "f_family.close()"
   ]
  },
  {
   "cell_type": "code",
   "execution_count": null,
   "metadata": {},
   "outputs": [],
   "source": [
    "# df_attr[(df_attr.id==\"05bdd42efc5a483d58dc70cf95497b04\")&(df_attr.key==\"中文名\")]\n",
    "# a = re.findall(\"(\\w{1,5}门)|.*?称.*?(\\w{1,5}门)\",\"被子植物门\")\n",
    "# a\n",
    "# a = re.sub(\"\\(|\\)|[A-Za-z]|\\s+|\\t+|，|\\.|（|）|；|：|。\",\"\",ddddd)"
   ]
  },
  {
   "cell_type": "code",
   "execution_count": 67,
   "metadata": {},
   "outputs": [
    {
     "name": "stdout",
     "output_type": "stream",
     "text": [
      "我最喜欢吃的水果有：苹果、梨、香蕉、还有烤肉香蕉水 --->命中的关键词有： 苹果\t梨\t香蕉\n",
      "我也喜欢吃香蕉，但是我不喜欢吃梨 --->命中的关键词有： 梨\t香蕉\n"
     ]
    }
   ],
   "source": [
    "# import ahocorasick\n",
    "\n",
    "# def make_AC(AC, word_set):\n",
    "#     for word in word_set:\n",
    "#         AC.add_word(word,word)\n",
    "#     return AC\n",
    "\n",
    "# def test_ahocorasick():\n",
    "#     '''\n",
    "#     ahocosick：自动机的意思\n",
    "#     可实现自动批量匹配字符串的作用，即可一次返回该条字符串中命中的所有关键词\n",
    "#     '''\n",
    "#     key_list = [\"苹果\", \"香蕉\", \"梨\", \"橙子\", \"柚子\", \"火龙果\", \"柿子\", \"猕猴挑\"]\n",
    "#     AC_KEY = ahocorasick.Automaton()\n",
    "#     AC_KEY = make_AC(AC_KEY, set(key_list))\n",
    "#     AC_KEY.make_automaton()\n",
    "#     test_str_list = [\"我最喜欢吃的水果有：苹果、梨、香蕉、还有烤肉香蕉水\", \"我也喜欢吃香蕉，但是我不喜欢吃梨\"]\n",
    "#     for content in test_str_list:\n",
    "#         name_list = set()\n",
    "#         for item in AC_KEY.iter(content):#将AC_KEY中的每一项与content内容作对比，若匹配则返回\n",
    "#             name_list.add(item[1])\n",
    "#         name_list = list(name_list)\n",
    "#         if len(name_list) > 0:\n",
    "#             print(content, \"--->命中的关键词有：\", \"\\t\".join(name_list))\n",
    "# if __name__ == \"__main__\":\n",
    "#     test_ahocorasick()"
   ]
  }
 ],
 "metadata": {
  "kernelspec": {
   "display_name": "Python 3",
   "language": "python",
   "name": "python3"
  },
  "language_info": {
   "codemirror_mode": {
    "name": "ipython",
    "version": 3
   },
   "file_extension": ".py",
   "mimetype": "text/x-python",
   "name": "python",
   "nbconvert_exporter": "python",
   "pygments_lexer": "ipython3",
   "version": "3.6.8"
  }
 },
 "nbformat": 4,
 "nbformat_minor": 2
}
