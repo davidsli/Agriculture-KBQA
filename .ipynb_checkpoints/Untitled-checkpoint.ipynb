{
 "cells": [
  {
   "cell_type": "code",
   "execution_count": 40,
   "metadata": {},
   "outputs": [],
   "source": [
    "import pandas as pd\n",
    "import json"
   ]
  },
  {
   "cell_type": "code",
   "execution_count": 41,
   "metadata": {},
   "outputs": [],
   "source": [
    "import json \n",
    "from pandas.io.json import json_normalize\n",
    "data=open(\"./dats.json\",encoding=\"utf-8\").read()\n",
    "data_list = json.loads(data)\n",
    "df = json_normalize(data_list)"
   ]
  },
  {
   "cell_type": "code",
   "execution_count": 42,
   "metadata": {},
   "outputs": [
    {
     "data": {
      "text/html": [
       "<div>\n",
       "<style scoped>\n",
       "    .dataframe tbody tr th:only-of-type {\n",
       "        vertical-align: middle;\n",
       "    }\n",
       "\n",
       "    .dataframe tbody tr th {\n",
       "        vertical-align: top;\n",
       "    }\n",
       "\n",
       "    .dataframe thead th {\n",
       "        text-align: right;\n",
       "    }\n",
       "</style>\n",
       "<table border=\"1\" class=\"dataframe\">\n",
       "  <thead>\n",
       "    <tr style=\"text-align: right;\">\n",
       "      <th></th>\n",
       "      <th>title</th>\n",
       "      <th>title_url</th>\n",
       "    </tr>\n",
       "  </thead>\n",
       "  <tbody>\n",
       "    <tr>\n",
       "      <td>0</td>\n",
       "      <td>上海青</td>\n",
       "      <td>http://www.baike.com/wiki/%E4%B8%8A%E6%B5%B7%E...</td>\n",
       "    </tr>\n",
       "    <tr>\n",
       "      <td>1</td>\n",
       "      <td>喜林芋属</td>\n",
       "      <td>http://www.baike.com/wiki/%E5%96%9C%E6%9E%97%E...</td>\n",
       "    </tr>\n",
       "    <tr>\n",
       "      <td>2</td>\n",
       "      <td>茄科</td>\n",
       "      <td>http://www.baike.com/wiki/%E8%8C%84%E7%A7%91</td>\n",
       "    </tr>\n",
       "    <tr>\n",
       "      <td>3</td>\n",
       "      <td>水芹</td>\n",
       "      <td>http://www.baike.com/wiki/%E6%B0%B4%E8%8A%B9</td>\n",
       "    </tr>\n",
       "    <tr>\n",
       "      <td>4</td>\n",
       "      <td>菱</td>\n",
       "      <td>http://www.baike.com/wiki/%E8%8F%B1</td>\n",
       "    </tr>\n",
       "    <tr>\n",
       "      <td>...</td>\n",
       "      <td>...</td>\n",
       "      <td>...</td>\n",
       "    </tr>\n",
       "    <tr>\n",
       "      <td>146</td>\n",
       "      <td>界牌慈菇</td>\n",
       "      <td>http://www.baike.com/wiki/%E7%95%8C%E7%89%8C%E...</td>\n",
       "    </tr>\n",
       "    <tr>\n",
       "      <td>147</td>\n",
       "      <td>洋蓟</td>\n",
       "      <td>http://www.baike.com/wiki/%E6%B4%8B%E8%93%9F</td>\n",
       "    </tr>\n",
       "    <tr>\n",
       "      <td>148</td>\n",
       "      <td>传统泡菜</td>\n",
       "      <td>http://www.baike.com/wiki/%E4%BC%A0%E7%BB%9F%E...</td>\n",
       "    </tr>\n",
       "    <tr>\n",
       "      <td>149</td>\n",
       "      <td>白花芥蓝</td>\n",
       "      <td>http://www.baike.com/wiki/%E7%99%BD%E8%8A%B1%E...</td>\n",
       "    </tr>\n",
       "    <tr>\n",
       "      <td>150</td>\n",
       "      <td>辣椒节</td>\n",
       "      <td>http://www.baike.com/wiki/%E8%BE%A3%E6%A4%92%E...</td>\n",
       "    </tr>\n",
       "  </tbody>\n",
       "</table>\n",
       "<p>151 rows × 2 columns</p>\n",
       "</div>"
      ],
      "text/plain": [
       "    title                                          title_url\n",
       "0     上海青  http://www.baike.com/wiki/%E4%B8%8A%E6%B5%B7%E...\n",
       "1    喜林芋属  http://www.baike.com/wiki/%E5%96%9C%E6%9E%97%E...\n",
       "2      茄科       http://www.baike.com/wiki/%E8%8C%84%E7%A7%91\n",
       "3      水芹       http://www.baike.com/wiki/%E6%B0%B4%E8%8A%B9\n",
       "4       菱                http://www.baike.com/wiki/%E8%8F%B1\n",
       "..    ...                                                ...\n",
       "146  界牌慈菇  http://www.baike.com/wiki/%E7%95%8C%E7%89%8C%E...\n",
       "147    洋蓟       http://www.baike.com/wiki/%E6%B4%8B%E8%93%9F\n",
       "148  传统泡菜  http://www.baike.com/wiki/%E4%BC%A0%E7%BB%9F%E...\n",
       "149  白花芥蓝  http://www.baike.com/wiki/%E7%99%BD%E8%8A%B1%E...\n",
       "150   辣椒节  http://www.baike.com/wiki/%E8%BE%A3%E6%A4%92%E...\n",
       "\n",
       "[151 rows x 2 columns]"
      ]
     },
     "execution_count": 42,
     "metadata": {},
     "output_type": "execute_result"
    }
   ],
   "source": [
    "aa = df[[\"title\",\"title_url\"]]\n",
    "aa"
   ]
  },
  {
   "cell_type": "code",
   "execution_count": 46,
   "metadata": {},
   "outputs": [],
   "source": [
    "aa.to_csv(\"./fruit_list.csv\",index=False,header=None,mode='a')"
   ]
  },
  {
   "cell_type": "code",
   "execution_count": 34,
   "metadata": {},
   "outputs": [],
   "source": []
  },
  {
   "cell_type": "code",
   "execution_count": 31,
   "metadata": {},
   "outputs": [
    {
     "data": {
      "text/html": [
       "<div>\n",
       "<style scoped>\n",
       "    .dataframe tbody tr th:only-of-type {\n",
       "        vertical-align: middle;\n",
       "    }\n",
       "\n",
       "    .dataframe tbody tr th {\n",
       "        vertical-align: top;\n",
       "    }\n",
       "\n",
       "    .dataframe thead th {\n",
       "        text-align: right;\n",
       "    }\n",
       "</style>\n",
       "<table border=\"1\" class=\"dataframe\">\n",
       "  <thead>\n",
       "    <tr style=\"text-align: right;\">\n",
       "      <th></th>\n",
       "      <th>title</th>\n",
       "      <th>title_url</th>\n",
       "      <th>score</th>\n",
       "      <th>create_date</th>\n",
       "    </tr>\n",
       "  </thead>\n",
       "  <tbody>\n",
       "    <tr>\n",
       "      <td>0</td>\n",
       "      <td>余甘果</td>\n",
       "      <td>http://www.baike.com/wiki/%E4%BD%99%E7%94%98%E...</td>\n",
       "      <td>3</td>\n",
       "      <td>09-20 10:10</td>\n",
       "    </tr>\n",
       "    <tr>\n",
       "      <td>1</td>\n",
       "      <td>嘎拉苹果</td>\n",
       "      <td>http://www.baike.com/wiki/%E5%98%8E%E6%8B%89%E...</td>\n",
       "      <td>3</td>\n",
       "      <td>09-20 10:08</td>\n",
       "    </tr>\n",
       "    <tr>\n",
       "      <td>2</td>\n",
       "      <td>针叶樱桃</td>\n",
       "      <td>http://www.baike.com/wiki/%E9%92%88%E5%8F%B6%E...</td>\n",
       "      <td>3</td>\n",
       "      <td>09-20 09:55</td>\n",
       "    </tr>\n",
       "    <tr>\n",
       "      <td>3</td>\n",
       "      <td>红星苹果</td>\n",
       "      <td>http://www.baike.com/wiki/%E7%BA%A2%E6%98%9F%E...</td>\n",
       "      <td>3</td>\n",
       "      <td>09-20 09:51</td>\n",
       "    </tr>\n",
       "    <tr>\n",
       "      <td>4</td>\n",
       "      <td>芦柑</td>\n",
       "      <td>http://www.baike.com/wiki/%E8%8A%A6%E6%9F%91</td>\n",
       "      <td>3</td>\n",
       "      <td>09-20 09:49</td>\n",
       "    </tr>\n",
       "    <tr>\n",
       "      <td>...</td>\n",
       "      <td>...</td>\n",
       "      <td>...</td>\n",
       "      <td>...</td>\n",
       "      <td>...</td>\n",
       "    </tr>\n",
       "    <tr>\n",
       "      <td>146</td>\n",
       "      <td>鲜果快线</td>\n",
       "      <td>http://www.baike.com/wiki/%E9%B2%9C%E6%9E%9C%E...</td>\n",
       "      <td>3</td>\n",
       "      <td>09-19 07:29</td>\n",
       "    </tr>\n",
       "    <tr>\n",
       "      <td>147</td>\n",
       "      <td>明列果</td>\n",
       "      <td>http://www.baike.com/wiki/%E6%98%8E%E5%88%97%E...</td>\n",
       "      <td>3</td>\n",
       "      <td>09-19 07:20</td>\n",
       "    </tr>\n",
       "    <tr>\n",
       "      <td>148</td>\n",
       "      <td>新宁脐橙</td>\n",
       "      <td>http://www.baike.com/wiki/%E6%96%B0%E5%AE%81%E...</td>\n",
       "      <td>3</td>\n",
       "      <td>09-19 07:19</td>\n",
       "    </tr>\n",
       "    <tr>\n",
       "      <td>149</td>\n",
       "      <td>红蛇果</td>\n",
       "      <td>http://www.baike.com/wiki/%E7%BA%A2%E8%9B%87%E...</td>\n",
       "      <td>3</td>\n",
       "      <td>09-19 07:02</td>\n",
       "    </tr>\n",
       "    <tr>\n",
       "      <td>150</td>\n",
       "      <td>晋州鸭梨</td>\n",
       "      <td>http://www.baike.com/wiki/%E6%99%8B%E5%B7%9E%E...</td>\n",
       "      <td>3</td>\n",
       "      <td>09-19 06:54</td>\n",
       "    </tr>\n",
       "  </tbody>\n",
       "</table>\n",
       "<p>151 rows × 4 columns</p>\n",
       "</div>"
      ],
      "text/plain": [
       "    title                                          title_url  score  \\\n",
       "0     余甘果  http://www.baike.com/wiki/%E4%BD%99%E7%94%98%E...      3   \n",
       "1    嘎拉苹果  http://www.baike.com/wiki/%E5%98%8E%E6%8B%89%E...      3   \n",
       "2    针叶樱桃  http://www.baike.com/wiki/%E9%92%88%E5%8F%B6%E...      3   \n",
       "3    红星苹果  http://www.baike.com/wiki/%E7%BA%A2%E6%98%9F%E...      3   \n",
       "4      芦柑       http://www.baike.com/wiki/%E8%8A%A6%E6%9F%91      3   \n",
       "..    ...                                                ...    ...   \n",
       "146  鲜果快线  http://www.baike.com/wiki/%E9%B2%9C%E6%9E%9C%E...      3   \n",
       "147   明列果  http://www.baike.com/wiki/%E6%98%8E%E5%88%97%E...      3   \n",
       "148  新宁脐橙  http://www.baike.com/wiki/%E6%96%B0%E5%AE%81%E...      3   \n",
       "149   红蛇果  http://www.baike.com/wiki/%E7%BA%A2%E8%9B%87%E...      3   \n",
       "150  晋州鸭梨  http://www.baike.com/wiki/%E6%99%8B%E5%B7%9E%E...      3   \n",
       "\n",
       "     create_date  \n",
       "0    09-20 10:10  \n",
       "1    09-20 10:08  \n",
       "2    09-20 09:55  \n",
       "3    09-20 09:51  \n",
       "4    09-20 09:49  \n",
       "..           ...  \n",
       "146  09-19 07:29  \n",
       "147  09-19 07:20  \n",
       "148  09-19 07:19  \n",
       "149  09-19 07:02  \n",
       "150  09-19 06:54  \n",
       "\n",
       "[151 rows x 4 columns]"
      ]
     },
     "execution_count": 31,
     "metadata": {},
     "output_type": "execute_result"
    }
   ],
   "source": [
    "pd.read_csv(\"./fruit_list.csv\")"
   ]
  },
  {
   "cell_type": "code",
   "execution_count": 48,
   "metadata": {},
   "outputs": [
    {
     "data": {
      "text/plain": [
       "'%E8%94%AC%E8%8F%9C'"
      ]
     },
     "execution_count": 48,
     "metadata": {},
     "output_type": "execute_result"
    }
   ],
   "source": [
    "from urllib.parse import quote,unquote\n",
    "quote(\"蔬菜\".encode('utf-8'))"
   ]
  },
  {
   "cell_type": "code",
   "execution_count": 51,
   "metadata": {},
   "outputs": [
    {
     "data": {
      "text/plain": [
       "'蔬菜'"
      ]
     },
     "execution_count": 51,
     "metadata": {},
     "output_type": "execute_result"
    }
   ],
   "source": [
    "'/美丽异木棉 编辑\\n'\n",
    "                       '\\n'\n",
    "                       '\\n'\n",
    "                       '\\t\\t\\t\\n'\n",
    "                       '\\t\\t\\n'\n",
    "                       ' \\n'\n",
    "                       ' 美丽异木棉\\n'\n",
    "                       '一般采用 \\n'\n",
    "                       '播种繁殖的方式。美丽异木棉的种子成熟是在3-4月份，宜随采随播，发芽率可达90%，随着时间的推移，发芽率会降低。播种基质可用泥炭土∶沙=3:1，把pH值调至6.0左右，每立方播种基质加入10kg鸡粪、2kg复合肥混合，然后过筛。由\n",
    "于种子较大（黄豆般大小），可以在播种器皿上采用点播的方法，点播密度为500粒/平方米。点播时，种子点播的深度为种子本身的厚度，播得太深会使种子发芽时间推迟，发芽势下降。点播完成后，第一次用500倍的灭病威淋透。种子的发芽适温为18℃-24℃，播\n",
    "种后一个星期左右开始发芽，太阳猛烈的白天要用50%的遮光网降温，但为了避免小苗徒长，要让小苗尽量接受阳光的照射。 \\xa0\\n '"
   ]
  }
 ],
 "metadata": {
  "kernelspec": {
   "display_name": "Python 3",
   "language": "python",
   "name": "python3"
  },
  "language_info": {
   "codemirror_mode": {
    "name": "ipython",
    "version": 3
   },
   "file_extension": ".py",
   "mimetype": "text/x-python",
   "name": "python",
   "nbconvert_exporter": "python",
   "pygments_lexer": "ipython3",
   "version": "3.6.8"
  }
 },
 "nbformat": 4,
 "nbformat_minor": 2
}
