{
 "cells": [
  {
   "cell_type": "code",
   "execution_count": 1,
   "metadata": {},
   "outputs": [],
   "source": [
    "import os\n",
    "from py2neo import Graph\n",
    "import ahocorasick"
   ]
  },
  {
   "cell_type": "markdown",
   "metadata": {},
   "source": [
    "### 关键词导入"
   ]
  },
  {
   "cell_type": "code",
   "execution_count": 2,
   "metadata": {},
   "outputs": [],
   "source": [
    "produce = [i.strip() for i in open(\"../data/produce.txt\") if i.strip()]\n",
    "classify = [i.strip() for i in open(\"../data/classify.txt\") if i.strip()]\n",
    "person = [i.strip() for i in open('../data/person.txt') if i.strip()]\n",
    "belong = [i.strip() for i in open(\"../data/belong.txt\") if i.strip()]\n",
    "outline = [i.strip() for i in open(\"../data/outline.txt\") if i.strip()]\n",
    "location = [i.strip() for i in open(\"../data/location.txt\") if i.strip()]\n",
    "catalogue = [i.strip() for i in open(\"../data/catalogue.txt\") if i.strip()]\n",
    "family = [i.strip() for i in open(\"../data/family.txt\") if i.strip()]\n",
    "keywords = produce+ classify+ person+ belong+ outline+ classify+ location+ catalogue+ family\n",
    "keywords = set(keywords)"
   ]
  },
  {
   "cell_type": "markdown",
   "metadata": {},
   "source": [
    "### 构建关键词库"
   ]
  },
  {
   "cell_type": "code",
   "execution_count": 3,
   "metadata": {},
   "outputs": [],
   "source": [
    "def build_wdtype_dict(keywords):\n",
    "    wd_dict = dict()\n",
    "    for wd in keywords:\n",
    "        wd_dict[wd] = []\n",
    "        if wd in produce:\n",
    "            wd_dict[wd].append('produce')\n",
    "        if wd in classify:\n",
    "            wd_dict[wd].append('classify')\n",
    "        if wd in person:\n",
    "            wd_dict[wd].append('person')\n",
    "        if wd in belong:\n",
    "            wd_dict[wd].append('belong')\n",
    "        if wd in outline:\n",
    "            wd_dict[wd].append('outline')\n",
    "        if wd in location:\n",
    "            wd_dict[wd].append('location')\n",
    "        if wd in catalogue:\n",
    "            wd_dict[wd].append('catalogue')\n",
    "        if wd in family:\n",
    "            wd_dict[wd].append('family')\n",
    "    return wd_dict"
   ]
  },
  {
   "cell_type": "code",
   "execution_count": 4,
   "metadata": {},
   "outputs": [
    {
     "data": {
      "text/plain": [
       "6714"
      ]
     },
     "execution_count": 4,
     "metadata": {},
     "output_type": "execute_result"
    }
   ],
   "source": [
    "len(build_wdtype_dict(keywords))"
   ]
  },
  {
   "cell_type": "code",
   "execution_count": 5,
   "metadata": {},
   "outputs": [
    {
     "ename": "TypeError",
     "evalue": "unsupported operand type(s) for +: 'set' and 'set'",
     "output_type": "error",
     "traceback": [
      "\u001b[1;31m---------------------------------------------------------------------------\u001b[0m",
      "\u001b[1;31mTypeError\u001b[0m                                 Traceback (most recent call last)",
      "\u001b[1;32m<ipython-input-5-b88c7f6078c9>\u001b[0m in \u001b[0;36m<module>\u001b[1;34m()\u001b[0m\n\u001b[0;32m      5\u001b[0m \u001b[0ma\u001b[0m\u001b[1;33m=\u001b[0m\u001b[1;33m{\u001b[0m\u001b[1;36m1\u001b[0m\u001b[1;33m,\u001b[0m\u001b[1;36m2\u001b[0m\u001b[1;33m,\u001b[0m\u001b[1;36m34\u001b[0m\u001b[1;33m}\u001b[0m\u001b[1;33m\u001b[0m\u001b[1;33m\u001b[0m\u001b[0m\n\u001b[0;32m      6\u001b[0m \u001b[0mb\u001b[0m\u001b[1;33m=\u001b[0m\u001b[1;33m{\u001b[0m\u001b[1;36m1\u001b[0m\u001b[1;33m,\u001b[0m\u001b[1;36m2\u001b[0m\u001b[1;33m,\u001b[0m\u001b[1;36m10\u001b[0m\u001b[1;33m}\u001b[0m\u001b[1;33m\u001b[0m\u001b[1;33m\u001b[0m\u001b[0m\n\u001b[1;32m----> 7\u001b[1;33m \u001b[0ma\u001b[0m\u001b[1;33m+\u001b[0m\u001b[0mb\u001b[0m\u001b[1;33m\u001b[0m\u001b[1;33m\u001b[0m\u001b[0m\n\u001b[0m",
      "\u001b[1;31mTypeError\u001b[0m: unsupported operand type(s) for +: 'set' and 'set'"
     ]
    }
   ],
   "source": [
    "# a = {\"a\":1,\"b\":2,\"c\":3}\n",
    "# b = {\"a\":2, \"e\":4,\"d\":\"5\"}\n",
    "# a.update(b)\n",
    "# a\n",
    "a={1,2,34}\n",
    "b={1,2,10}\n",
    "a+b"
   ]
  },
  {
   "cell_type": "markdown",
   "metadata": {},
   "source": [
    "### 加速匹配"
   ]
  },
  {
   "cell_type": "code",
   "execution_count": 6,
   "metadata": {},
   "outputs": [],
   "source": [
    "def build_actree(wordlist):\n",
    "    tree = ahocorasick.Automaton()\n",
    "    for index, word in enumerate(wordlist):\n",
    "        tree.add_word(word, (index, word))\n",
    "    tree.make_automaton()\n",
    "    return tree"
   ]
  },
  {
   "cell_type": "code",
   "execution_count": 7,
   "metadata": {},
   "outputs": [
    {
     "ename": "SyntaxError",
     "evalue": "invalid syntax (<ipython-input-7-73fe9937c2ca>, line 6)",
     "output_type": "error",
     "traceback": [
      "\u001b[1;36m  File \u001b[1;32m\"<ipython-input-7-73fe9937c2ca>\"\u001b[1;36m, line \u001b[1;32m6\u001b[0m\n\u001b[1;33m    [n[0]:n[1] for n in d]\u001b[0m\n\u001b[1;37m         ^\u001b[0m\n\u001b[1;31mSyntaxError\u001b[0m\u001b[1;31m:\u001b[0m invalid syntax\n"
     ]
    }
   ],
   "source": [
    "# 福建省适合种什么农作物\n",
    "a={\"A\":\"a\",\"B\":\"b\",\"C\":\"c\"}\n",
    "b = {\"A\":\"b\",\"B\":\"e\",\"D\":\"d\"}\n",
    "# a.items()\n",
    "d = dict(zip(a.items(),b.items()))\n",
    "[n[0]:n[1] for n in d]"
   ]
  },
  {
   "cell_type": "markdown",
   "metadata": {},
   "source": [
    "### 问句过滤"
   ]
  },
  {
   "cell_type": "code",
   "execution_count": 8,
   "metadata": {},
   "outputs": [],
   "source": [
    "def check_medical(question,tree,wdtype_dict):\n",
    "    region_wds = []\n",
    "    for i in tree.iter(question):\n",
    "        wd = i[1][1]\n",
    "        region_wds.append(wd)\n",
    "    stop_wds = []\n",
    "    for wd1 in region_wds:\n",
    "        for wd2 in region_wds:\n",
    "            if wd1 in wd2 and wd1 != wd2:\n",
    "                stop_wds.append(wd1)\n",
    "    final_wds = [i for i in region_wds if i not in stop_wds]\n",
    "    final_dict = {i:wdtype_dict.get(i) for i in final_wds}\n",
    "    return final_dict"
   ]
  },
  {
   "cell_type": "markdown",
   "metadata": {},
   "source": [
    "### 疑问词库"
   ]
  },
  {
   "cell_type": "code",
   "execution_count": 9,
   "metadata": {},
   "outputs": [],
   "source": [
    "classify_qwds = ['什么品 种', '属于什么品 种','什么品种','属于什么品种', '品种是什么']\n",
    "person_qwds = [\"什么人命名\",\"被命名\",\"谁命名\"]\n",
    "belong_qwds = ['什么门', '属于什么门', '门是什么']\n",
    "outline_qwds = ['什么纲', '属于什么纲', '纲是什么']\n",
    "location_qwds = [\"分布哪里\",\"分布区域\",\"分布范围\",\"产地是\",\"分布地区\",\"主产地\",\"场地有\",\"在哪里\",\"生在哪\",\"生长在哪\",\"在哪生\"]\n",
    "catalogue_qwds = ['什么目', '属于什么目', '目是什么']\n",
    "family_qwds = ['什么科', '属于什么科', '科是什么']"
   ]
  },
  {
   "cell_type": "markdown",
   "metadata": {},
   "source": [
    "### 特征词分类"
   ]
  },
  {
   "cell_type": "code",
   "execution_count": 10,
   "metadata": {},
   "outputs": [],
   "source": [
    "def check_intention(wds, sent):\n",
    "    for wd in wds:\n",
    "        if wd in sent:\n",
    "            return True\n",
    "    return False\n"
   ]
  },
  {
   "cell_type": "markdown",
   "metadata": {},
   "source": [
    "### 问句处理主程序"
   ]
  },
  {
   "cell_type": "code",
   "execution_count": 11,
   "metadata": {},
   "outputs": [],
   "source": [
    "def question_parse_run(question):\n",
    "    data = {}\n",
    "    wd_dict = build_wdtype_dict(keywords)\n",
    "#     print(\"wd_dict\",wd_dict)\n",
    "    tree = build_actree(keywords)\n",
    "#     print(\"tree\",tree)\n",
    "    final_dict = check_medical(question, tree, wd_dict)\n",
    "    print(\"final_dict\",final_dict)\n",
    "    if not final_dict:\n",
    "        return {}\n",
    "    data[\"args\"] = final_dict\n",
    "    entity_types = []\n",
    "    for t in final_dict.values():\n",
    "        entity_types += t\n",
    "    question_type_list = []\n",
    "    # 检测查询品种意图\n",
    "    if_suitable = check_intention(classify_qwds, question)\n",
    "    if if_suitable and \"produce\" in entity_types:\n",
    "        question_type = \"produce_classify\"\n",
    "        question_type_list.append(question_type)\n",
    "    # 检测查询命名者意图\n",
    "    if_suitable = check_intention(person_qwds, question)\n",
    "    if if_suitable and \"produce\" in entity_types:\n",
    "        question_type = \"produce_person\"\n",
    "        question_type_list.append(question_type)\n",
    "    # 检测查询门意图\n",
    "    if_suitable = check_intention(belong_qwds, question)\n",
    "    if if_suitable and \"produce\" in entity_types:\n",
    "        question_type = \"produce_belong\"\n",
    "        question_type_list.append(question_type)\n",
    "    # 检测查询纲意图\n",
    "    if_suitable = check_intention(outline_qwds, question)\n",
    "    if if_suitable and \"produce\" in entity_types:\n",
    "        question_type = \"produce_outline\"\n",
    "        question_type_list.append(question_type)\n",
    "    # 检测查询地理分布意图\n",
    "    if_suitable = check_intention(location_qwds, question)\n",
    "    if if_suitable and \"produce\" in entity_types:\n",
    "        question_type = \"produce_location\"\n",
    "        question_type_list.append(question_type)\n",
    "    # 检测查询目意图\n",
    "    if_suitable = check_intention(catalogue_qwds, question)\n",
    "    if if_suitable and \"produce\" in entity_types:\n",
    "        question_type = \"produce_catalogue\"\n",
    "        question_type_list.append(question_type)\n",
    "    # 检测查询科意图\n",
    "    if_suitable = check_intention(family_qwds, question)\n",
    "    if if_suitable and \"produce\" in entity_types:\n",
    "        question_type = \"produce_family\"\n",
    "        question_type_list.append(question_type)\n",
    "        \n",
    "    # 返回实体描述\n",
    "    if len(question_type_list)==0 and \"produce\" in entity_types:\n",
    "        question_type_list = [\"disease_desc\"]\n",
    "        \n",
    "    # 需要补充说明问题\n",
    "    if len(question_type_list)==0 and len(entity_types)!=0:\n",
    "        question_type_list = [\"add_want_do\"]\n",
    "    \n",
    "    if len(question_type_list) == 0:\n",
    "         question_type_list = [\"others\"]\n",
    "\n",
    "    data[\"question_types\"] = question_type_list\n",
    "    \n",
    "    return data\n"
   ]
  },
  {
   "cell_type": "code",
   "execution_count": 31,
   "metadata": {},
   "outputs": [
    {
     "name": "stdout",
     "output_type": "stream",
     "text": [
      "final_dict {'苹果': ['produce', 'classify'], '香蕉': ['produce', 'classify']}\n"
     ]
    },
    {
     "data": {
      "text/plain": [
       "{'args': {'苹果': ['produce', 'classify'], '香蕉': ['produce', 'classify']},\n",
       " 'question_types': ['produce_classify',\n",
       "  'produce_person',\n",
       "  'produce_belong',\n",
       "  'produce_location']}"
      ]
     },
     "execution_count": 31,
     "metadata": {},
     "output_type": "execute_result"
    }
   ],
   "source": [
    "question = \"苹果香蕉是什么品种,是什么门，一般在哪生长,被谁命名的\"\n",
    "parse_data = question_parse_run(question) \n",
    "parse_data"
   ]
  },
  {
   "cell_type": "code",
   "execution_count": 32,
   "metadata": {},
   "outputs": [
    {
     "data": {
      "text/plain": [
       "({'苹果': ['produce', 'classify'], '香蕉': ['produce', 'classify']},\n",
       " ['produce_classify', 'produce_person', 'produce_belong', 'produce_location'])"
      ]
     },
     "execution_count": 32,
     "metadata": {},
     "output_type": "execute_result"
    }
   ],
   "source": [
    "parse_data[\"args\"],parse_data[\"question_types\"]"
   ]
  },
  {
   "cell_type": "code",
   "execution_count": 33,
   "metadata": {},
   "outputs": [],
   "source": [
    "a={\"a\":[1,2],\"b\":[3]}"
   ]
  },
  {
   "cell_type": "code",
   "execution_count": 34,
   "metadata": {},
   "outputs": [
    {
     "data": {
      "text/plain": [
       "True"
      ]
     },
     "execution_count": 34,
     "metadata": {},
     "output_type": "execute_result"
    }
   ],
   "source": [
    "\"b\" in a"
   ]
  },
  {
   "cell_type": "code",
   "execution_count": 35,
   "metadata": {},
   "outputs": [],
   "source": [
    "def build_entity_dict(entitys):\n",
    "    entity_dict = {}\n",
    "    for entity, types in entitys.items():\n",
    "        for type in types:\n",
    "            if type not in entity_dict:\n",
    "                entity_dict[type] = [entity]\n",
    "            else:\n",
    "                entity_dict[type].append(entity)\n",
    "    return entity_dict"
   ]
  },
  {
   "cell_type": "markdown",
   "metadata": {},
   "source": [
    "### 问句到数据查询语句转换"
   ]
  },
  {
   "cell_type": "code",
   "execution_count": 36,
   "metadata": {},
   "outputs": [],
   "source": [
    "def gen_sql_list():\n",
    "    entity_dict = build_entity_dict(parse_data[\"args\"])\n",
    "    print(entity_dict)\n",
    "    sql_list = []\n",
    "    for intention in parse_data[\"question_types\"]:\n",
    "        sql, sql_dict = [],{}\n",
    "        sql_dict['question_type']=intention\n",
    "        if intention == \"produce_classify\":\n",
    "            sql = sql_teansfor(intention, entity_dict.get(\"produce\"))\n",
    "        elif intention == \"produce_person\":\n",
    "            sql = sql_teansfor(intention, entity_dict.get(\"produce\"))\n",
    "        elif intention == \"produce_belong\":\n",
    "            sql = sql_teansfor(intention, entity_dict.get(\"produce\"))\n",
    "        elif intention == \"produce_outline\":\n",
    "            sql = sql_teansfor(intention, entity_dict.get(\"produce\"))\n",
    "        elif intention == \"produce_location\":\n",
    "            sql = sql_teansfor(intention, entity_dict.get(\"produce\"))\n",
    "        elif intention == \"produce_catalogue\":\n",
    "            sql = sql_teansfor(intention, entity_dict.get(\"produce\"))\n",
    "        elif intention == \"produce_family\":\n",
    "            sql = sql_teansfor(intention, entity_dict.get(\"produce\"))\n",
    "        elif intention == \"produce_desc\":\n",
    "            sql = sql_teansfor(intention, entity_dict.get(\"produce\"))\n",
    "        elif intention == \"add_want_do\":\n",
    "            sql = sql_teansfor(intention, entity_dict.get(\"produce\"))\n",
    "        elif intention == \"other\":\n",
    "            sql = sql_teansfor(intention, entity_dict.get(\"produce\"))\n",
    "        if sql:\n",
    "            sql_dict['sql'] = sql\n",
    "            sql_list.append(sql_dict)\n",
    "\n",
    "    return sql_list\n",
    "            "
   ]
  },
  {
   "cell_type": "code",
   "execution_count": 37,
   "metadata": {},
   "outputs": [],
   "source": [
    "def sql_teansfor(intention, entites):\n",
    "    if not entites:\n",
    "        return []\n",
    "    sql = []\n",
    "    # 检测查询品种意图\n",
    "    if intention == \"produce_classify\":\n",
    "        sql = [\"match(p:Produce),(b:Classify) where p.name='{0}' match n =((p)-[:part_of]-(b)) return p.name,b.name\".format(i) for i in entites]\n",
    "    if intention == \"produce_person\":\n",
    "        sql = [\"match(p:Produce),(b:Person) where p.name='{0}' match n =((p)-[:part_of]-(b)) return p.name,b.name\".format(i) for i in entites]\n",
    "    if intention == \"produce_belong\":\n",
    "        sql = [\"match(p:Produce),(b:Belong) where p.name='{0}' match n =((p)-[:part_of]-(b)) return p.name,b.name\".format(i) for i in entites]\n",
    "    if intention == \"produce_outline\":\n",
    "        sql = [\"match(p:Produce),(b:Outline) where p.name='{0}' match n =((p)-[:part_of]-(b)) return p.name,b.name\".format(i) for i in entites]\n",
    "    if intention == \"produce_location\":\n",
    "        sql = [\"match(p:Produce),(b:Location) where p.name='{0}' match n =((p)-[:part_of]-(b)) return p.name,b.name\".format(i) for i in entites]\n",
    "    if intention == \"produce_family\":\n",
    "        sql = [\"match(p:Produce),(b:Family) where p.name='{0}' match n =((p)-[:part_of]-(b)) return p.name, b.name\".format(i) for i in entites]\n",
    "    if intention == \"produce_desc\":\n",
    "        sql = [i for i in entites]\n",
    "    if intention == \"add_want_do\":\n",
    "        sql = [i for i in entites]\n",
    "    if intention == \"other\":\n",
    "        sql = [i for i in entites]\n",
    "    return sql"
   ]
  },
  {
   "cell_type": "code",
   "execution_count": 38,
   "metadata": {},
   "outputs": [
    {
     "name": "stdout",
     "output_type": "stream",
     "text": [
      "{'produce': ['苹果', '香蕉'], 'classify': ['苹果', '香蕉']}\n"
     ]
    },
    {
     "data": {
      "text/plain": [
       "[{'question_type': 'produce_classify',\n",
       "  'sql': [\"match(p:Produce),(b:Classify) where p.name='苹果' match n =((p)-[:part_of]-(b)) return p.name,b.name\",\n",
       "   \"match(p:Produce),(b:Classify) where p.name='香蕉' match n =((p)-[:part_of]-(b)) return p.name,b.name\"]},\n",
       " {'question_type': 'produce_person',\n",
       "  'sql': [\"match(p:Produce),(b:Person) where p.name='苹果' match n =((p)-[:part_of]-(b)) return p.name,b.name\",\n",
       "   \"match(p:Produce),(b:Person) where p.name='香蕉' match n =((p)-[:part_of]-(b)) return p.name,b.name\"]},\n",
       " {'question_type': 'produce_belong',\n",
       "  'sql': [\"match(p:Produce),(b:Belong) where p.name='苹果' match n =((p)-[:part_of]-(b)) return p.name,b.name\",\n",
       "   \"match(p:Produce),(b:Belong) where p.name='香蕉' match n =((p)-[:part_of]-(b)) return p.name,b.name\"]},\n",
       " {'question_type': 'produce_location',\n",
       "  'sql': [\"match(p:Produce),(b:Location) where p.name='苹果' match n =((p)-[:part_of]-(b)) return p.name,b.name\",\n",
       "   \"match(p:Produce),(b:Location) where p.name='香蕉' match n =((p)-[:part_of]-(b)) return p.name,b.name\"]}]"
      ]
     },
     "execution_count": 38,
     "metadata": {},
     "output_type": "execute_result"
    }
   ],
   "source": [
    "gen_sql_list()"
   ]
  },
  {
   "cell_type": "markdown",
   "metadata": {},
   "source": [
    "### 生成对话"
   ]
  },
  {
   "cell_type": "code",
   "execution_count": 284,
   "metadata": {},
   "outputs": [],
   "source": [
    "\n",
    "graph = Graph(\n",
    "        host=\"127.0.0.1\",\n",
    "        http_port=7474,\n",
    "        user=\"neo4j\",\n",
    "        password=\"\")\n",
    "num_limit = 5\n"
   ]
  },
  {
   "cell_type": "code",
   "execution_count": 293,
   "metadata": {},
   "outputs": [],
   "source": [
    "def answer_prettify(question_type, answers):\n",
    "    final_answer = []\n",
    "    if not answers:\n",
    "        return ''\n",
    "     subject = answers[0]['p.name']\n",
    "    if question_type == 'produce_classify':\n",
    "        desc = [i['b.name'] for i in answers]\n",
    "        final_answer = '{0}是属于：{1}品种'.format(subject, '；'.join(list(set(desc))[:num_limit]))\n",
    "    elif question_type == 'produce_person':\n",
    "        desc = [i['b.name'] for i in answers]\n",
    "        final_answer = '{0}命名者是：{1}'.format(subject, '；'.join(list(set(desc))[:num_limit]))\n",
    "    elif question_type == 'produce_belong':\n",
    "        desc = [i['b.name'] for i in answers]\n",
    "        final_answer = '{0}是属于：{1}门'.format(subject, '；'.join(list(set(desc))[:num_limit]))\n",
    "    elif question_type == 'produce_outline':\n",
    "        desc = [i['b.name'] for i in answers]\n",
    "        final_answer = '{0}是属于：{1}纲'.format(subject, '；'.join(list(set(desc))[:num_limit]))\n",
    "    elif question_type == 'produce_location':\n",
    "        desc = [i['b.name'] for i in answers]\n",
    "        final_answer = '{0}常分布于：{1}'.format(subject, '；'.join(list(set(desc))[:num_limit]))\n",
    "    elif question_type == 'produce_catalogue':\n",
    "        desc = [i['b.name'] for i in answers]\n",
    "        final_answer = '{0}是属于：{1}目'.format(subject, '；'.join(list(set(desc))[:num_limit]))\n",
    "    elif question_type == 'produce_family':\n",
    "        desc = [i['b.name'] for i in answers]\n",
    "        final_answer = '{0}是属于：{1}科'.format(subject, '；'.join(list(set(desc))[:num_limit]))\n",
    "        \n",
    "    elif question_type == 'produce_desc':\n",
    "        desc = [i['b.name'] for i in answers]\n",
    "        final_answer = '{0}是属于：{1}品种'.format(subject, '；'.join(list(set(desc))[:num_limit]))\n",
    "    elif question_type == 'produce_other':\n",
    "        desc = [i['b.name'] for i in answers]\n",
    "        final_answer = '{0}是属于：{1}品种'.format(subject, '；'.join(list(set(desc))[:num_limit]))\n",
    "  \n",
    "    return final_answer\n"
   ]
  },
  {
   "cell_type": "code",
   "execution_count": 302,
   "metadata": {},
   "outputs": [],
   "source": [
    "def search_main():\n",
    "    sql_list = gen_sql_list()\n",
    "    final_answers = []\n",
    "    for sql in sql_list:\n",
    "        question_type = sql['question_type']\n",
    "        queries = sql['sql']\n",
    "        answers = []\n",
    "        for query in queries:\n",
    "            ress = graph.run(query).data()\n",
    "            answers += ress\n",
    "            print(question_type,answers)\n",
    "        _answer = answer_prettify(question_type, answers)\n",
    "        if _answer:\n",
    "            final_answers.append(_answer)\n",
    "    print(final_answers)\n",
    "#     return final_answers\n"
   ]
  },
  {
   "cell_type": "code",
   "execution_count": null,
   "metadata": {},
   "outputs": [],
   "source": []
  },
  {
   "cell_type": "code",
   "execution_count": 305,
   "metadata": {},
   "outputs": [
    {
     "name": "stdout",
     "output_type": "stream",
     "text": [
      "produce_classify [{'p.name': '红富士苹果', 'b.name': '富士苹果'}]\n",
      "produce_person []\n",
      "produce_belong [{'p.name': '红富士苹果', 'b.name': '被子植物门'}]\n",
      "produce_location []\n",
      "['红富士苹果是属于：富士苹果品种']\n"
     ]
    }
   ],
   "source": [
    "search_main()"
   ]
  },
  {
   "cell_type": "markdown",
   "metadata": {},
   "source": [
    "### 对话模板"
   ]
  },
  {
   "cell_type": "code",
   "execution_count": null,
   "metadata": {},
   "outputs": [],
   "source": []
  },
  {
   "cell_type": "code",
   "execution_count": 52,
   "metadata": {},
   "outputs": [
    {
     "name": "stdout",
     "output_type": "stream",
     "text": [
      "2\n"
     ]
    }
   ],
   "source": [
    "if set():\n",
    "    print(1)\n",
    "else:\n",
    "    print(2)"
   ]
  },
  {
   "cell_type": "code",
   "execution_count": 49,
   "metadata": {},
   "outputs": [
    {
     "data": {
      "text/plain": [
       "(['不仅', '7', '而且', '5'], ['1', '2', '3', '以及', '4'])"
      ]
     },
     "execution_count": 49,
     "metadata": {},
     "output_type": "execute_result"
    }
   ],
   "source": [
    "a=[\"1\",\"2\",\"3\",\"4\"]\n",
    "a.insert(-1,\"以及\")\n",
    "b=[\"7\",\"5\"]\n",
    "b.insert(0,\"不仅\")\n",
    "b.insert(-1,\"而且\")\n",
    "b,a"
   ]
  },
  {
   "cell_type": "code",
   "execution_count": null,
   "metadata": {},
   "outputs": [],
   "source": []
  },
  {
   "cell_type": "code",
   "execution_count": null,
   "metadata": {},
   "outputs": [],
   "source": []
  },
  {
   "cell_type": "code",
   "execution_count": null,
   "metadata": {},
   "outputs": [],
   "source": []
  },
  {
   "cell_type": "code",
   "execution_count": null,
   "metadata": {},
   "outputs": [],
   "source": []
  },
  {
   "cell_type": "code",
   "execution_count": null,
   "metadata": {},
   "outputs": [],
   "source": []
  },
  {
   "cell_type": "code",
   "execution_count": null,
   "metadata": {},
   "outputs": [],
   "source": []
  },
  {
   "cell_type": "code",
   "execution_count": null,
   "metadata": {},
   "outputs": [],
   "source": []
  },
  {
   "cell_type": "code",
   "execution_count": null,
   "metadata": {},
   "outputs": [],
   "source": []
  },
  {
   "cell_type": "code",
   "execution_count": null,
   "metadata": {},
   "outputs": [],
   "source": []
  },
  {
   "cell_type": "code",
   "execution_count": null,
   "metadata": {},
   "outputs": [],
   "source": []
  },
  {
   "cell_type": "code",
   "execution_count": null,
   "metadata": {},
   "outputs": [],
   "source": []
  },
  {
   "cell_type": "code",
   "execution_count": null,
   "metadata": {},
   "outputs": [],
   "source": []
  },
  {
   "cell_type": "code",
   "execution_count": null,
   "metadata": {},
   "outputs": [],
   "source": []
  },
  {
   "cell_type": "code",
   "execution_count": null,
   "metadata": {},
   "outputs": [],
   "source": []
  },
  {
   "cell_type": "code",
   "execution_count": null,
   "metadata": {},
   "outputs": [],
   "source": []
  },
  {
   "cell_type": "code",
   "execution_count": null,
   "metadata": {},
   "outputs": [],
   "source": []
  },
  {
   "cell_type": "code",
   "execution_count": 309,
   "metadata": {},
   "outputs": [],
   "source": [
    "import re"
   ]
  },
  {
   "cell_type": "code",
   "execution_count": 39,
   "metadata": {},
   "outputs": [],
   "source": [
    "a = {'produce': ['苹果'], 'classify': ['苹果']}"
   ]
  },
  {
   "cell_type": "code",
   "execution_count": 40,
   "metadata": {},
   "outputs": [
    {
     "data": {
      "text/plain": [
       "True"
      ]
     },
     "execution_count": 40,
     "metadata": {},
     "output_type": "execute_result"
    }
   ],
   "source": [
    "\"produce\" in a"
   ]
  },
  {
   "cell_type": "code",
   "execution_count": null,
   "metadata": {},
   "outputs": [],
   "source": []
  },
  {
   "cell_type": "code",
   "execution_count": null,
   "metadata": {},
   "outputs": [],
   "source": []
  },
  {
   "cell_type": "code",
   "execution_count": null,
   "metadata": {},
   "outputs": [],
   "source": []
  },
  {
   "cell_type": "code",
   "execution_count": null,
   "metadata": {},
   "outputs": [],
   "source": []
  },
  {
   "cell_type": "code",
   "execution_count": null,
   "metadata": {},
   "outputs": [],
   "source": []
  },
  {
   "cell_type": "code",
   "execution_count": null,
   "metadata": {},
   "outputs": [],
   "source": []
  }
 ],
 "metadata": {
  "kernelspec": {
   "display_name": "Python 3",
   "language": "python",
   "name": "python3"
  },
  "language_info": {
   "codemirror_mode": {
    "name": "ipython",
    "version": 3
   },
   "file_extension": ".py",
   "mimetype": "text/x-python",
   "name": "python",
   "nbconvert_exporter": "python",
   "pygments_lexer": "ipython3",
   "version": "3.6.8"
  }
 },
 "nbformat": 4,
 "nbformat_minor": 2
}
